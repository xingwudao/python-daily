{
 "cells": [
  {
   "cell_type": "code",
   "execution_count": 1,
   "metadata": {
    "collapsed": false
   },
   "outputs": [
    {
     "name": "stdout",
     "output_type": "stream",
     "text": [
      "person(height=180, weight=70)\n"
     ]
    }
   ],
   "source": [
    "from collections import namedtuple, defaultdict, OrderedDict, Counter, deque\n",
    "Person = namedtuple('person', ('height', 'weight'))\n",
    "person = Person(180, 70)\n",
    "print(person)"
   ]
  },
  {
   "cell_type": "code",
   "execution_count": 2,
   "metadata": {
    "collapsed": false
   },
   "outputs": [
    {
     "data": {
      "text/plain": [
       "deque([0, 1, 2, 3, 4])"
      ]
     },
     "execution_count": 2,
     "metadata": {},
     "output_type": "execute_result"
    }
   ],
   "source": [
    "dq = deque([1, 2, 3])\n",
    "dq.appendleft(0)\n",
    "dq.append(4)\n",
    "dq"
   ]
  },
  {
   "cell_type": "code",
   "execution_count": 3,
   "metadata": {
    "collapsed": false
   },
   "outputs": [
    {
     "name": "stdout",
     "output_type": "stream",
     "text": [
      "UNK\n"
     ]
    }
   ],
   "source": [
    "d = defaultdict(lambda :'UNK')\n",
    "d['a'] = 1\n",
    "d['b'] = 2\n",
    "print(d['c'])"
   ]
  },
  {
   "cell_type": "code",
   "execution_count": 4,
   "metadata": {
    "collapsed": false
   },
   "outputs": [
    {
     "name": "stdout",
     "output_type": "stream",
     "text": [
      "OrderedDict([('a', 1), ('c', 2), ('b', 3)])\n",
      "{'b': 3, 'c': 2, 'a': 1}\n"
     ]
    }
   ],
   "source": [
    "od = OrderedDict([('a',1), ('c',2), ('b', 3)])\n",
    "dd = dict([('a',1), ('c',2), ('b', 3)])\n",
    "print(od)\n",
    "print(dd)"
   ]
  },
  {
   "cell_type": "markdown",
   "metadata": {},
   "source": [
    "Counter这个类，以前没有太注意，以至于每次都自己用dict实现一个计数器，知道阅读tensorflow里面的word2vec-simple.py源码时，才发现原来标准Python库中就已经有这个类了。"
   ]
  },
  {
   "cell_type": "code",
   "execution_count": 5,
   "metadata": {
    "collapsed": false
   },
   "outputs": [
    {
     "name": "stdout",
     "output_type": "stream",
     "text": [
      "Counter({'ham': 1, 'eggs': 1})\n",
      "1\n",
      "0\n"
     ]
    }
   ],
   "source": [
    "c = Counter(['eggs', 'ham'])\n",
    "print(c)\n",
    "print(c['eggs'])\n",
    "print(c['missing'])"
   ]
  }
 ],
 "metadata": {
  "kernelspec": {
   "display_name": "Python 3",
   "language": "python",
   "name": "python3"
  },
  "language_info": {
   "codemirror_mode": {
    "name": "ipython",
    "version": 3
   },
   "file_extension": ".py",
   "mimetype": "text/x-python",
   "name": "python",
   "nbconvert_exporter": "python",
   "pygments_lexer": "ipython3",
   "version": "3.5.4"
  }
 },
 "nbformat": 4,
 "nbformat_minor": 0
}
